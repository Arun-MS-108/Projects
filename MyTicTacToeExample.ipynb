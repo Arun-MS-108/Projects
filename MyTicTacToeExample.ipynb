{
 "cells": [
  {
   "cell_type": "code",
   "execution_count": 7,
   "id": "4d40ca88-6041-4a1f-84fa-be874d667d06",
   "metadata": {},
   "outputs": [],
   "source": [
    "from IPython.display import clear_output\n",
    "\n",
    "def display_board(board):\n",
    "    clear_output()\n",
    "    print (board[7]+'|'+board[8]+'|'+board[9])\n",
    "    print ('-'+'|'+'-'+'|'+'-')\n",
    "    print (board[4]+'|'+board[5]+'|'+board[6])\n",
    "    print ('-'+'|'+'-'+'|'+'-')\n",
    "    print (board[1]+'|'+board[2]+'|'+board[3])"
   ]
  },
  {
   "cell_type": "code",
   "execution_count": 8,
   "id": "fc7cd4a3-dda2-47b8-9da7-ee47393fa0ad",
   "metadata": {},
   "outputs": [
    {
     "name": "stdout",
     "output_type": "stream",
     "text": [
      "X|O|x\n",
      "-|-|-\n",
      "O|X|O\n",
      "-|-|-\n",
      "X|O|X\n"
     ]
    }
   ],
   "source": [
    "test_board = ['#','X','O','X','O','X','O','X','O','x']\n",
    "display_board(test_board)"
   ]
  },
  {
   "cell_type": "code",
   "execution_count": 9,
   "id": "b4b4917f-0268-4ded-a1b9-04cf42feb279",
   "metadata": {},
   "outputs": [],
   "source": [
    "def player_input():\n",
    "    \n",
    "    marker1 = ' '\n",
    "    while marker1 not in ['X','O']:\n",
    "        marker1 = input(\"Player 1, chose X or O \")\n",
    "        #player1 = marker\n",
    "\n",
    "    #if player1 == 'X':\n",
    "        #player2 = 'O'\n",
    "    #else:\n",
    "        #player2 = 'X'\n",
    "\n",
    "    return marker1"
   ]
  },
  {
   "cell_type": "code",
   "execution_count": 10,
   "id": "6217ef99-19a2-446d-a9f4-c520e6bbb758",
   "metadata": {},
   "outputs": [
    {
     "name": "stdin",
     "output_type": "stream",
     "text": [
      "Player 1, chose X or O  O\n"
     ]
    },
    {
     "data": {
      "text/plain": [
       "'O'"
      ]
     },
     "execution_count": 10,
     "metadata": {},
     "output_type": "execute_result"
    }
   ],
   "source": [
    "player_input()"
   ]
  },
  {
   "cell_type": "code",
   "execution_count": 11,
   "id": "4f757d0e-c980-4ff1-85db-0b612c8f7f4a",
   "metadata": {},
   "outputs": [],
   "source": [
    "def win_check(board):\n",
    "    if (board[1]==board[2]==board[3]!=' ') or (board[1]==board[4]==board[7]!=' ') or (board[3]==board[6]==board[9]!=' ') or (board[7]==board[8]==board[9]!=' ') or (board[1]==board[5]==board[9]!=' ') or (board[7]==board[5]==board[3]!=' ') :\n",
    "        print(\"Congratulations! You have won!\")\n",
    "        progress = Progress_with_game()\n",
    "        return progress\n",
    "        "
   ]
  },
  {
   "cell_type": "code",
   "execution_count": 13,
   "id": "dce95ea8-c8bc-4c80-b154-f9dffb200b3e",
   "metadata": {},
   "outputs": [
    {
     "name": "stdout",
     "output_type": "stream",
     "text": [
      "Congratulations! You have won!\n"
     ]
    },
    {
     "data": {
      "text/plain": [
       "'False'"
      ]
     },
     "execution_count": 13,
     "metadata": {},
     "output_type": "execute_result"
    }
   ],
   "source": [
    "board1 = ['#','X','1','2','3','4','5','X','X','X']\n",
    "progress = True\n",
    "win_check(board1)"
   ]
  },
  {
   "cell_type": "code",
   "execution_count": 12,
   "id": "61d67c3c-2186-447a-95d6-687106beaedd",
   "metadata": {},
   "outputs": [],
   "source": [
    "def Progress_with_game():\n",
    "    #if (board[1]==board[2]==board[3]!=' ') or (board[1]==board[4]==board[7]!=' ') or (board[3]==board[6]==board[9]!=' ') or (board[7]==board[8]==board[9]!=' ') or (board[1]==board[5]==board[9]!=' ') or (board[7]==board[5]==board[3]!=' ') :\n",
    "        progress = 'False'\n",
    "        return progress"
   ]
  },
  {
   "cell_type": "code",
   "execution_count": null,
   "id": "fa12f120-1885-41ca-b514-3a944ed32ed9",
   "metadata": {},
   "outputs": [],
   "source": []
  },
  {
   "cell_type": "code",
   "execution_count": 14,
   "id": "67f7e1f2-1295-45b6-8c03-bb1ebc15161d",
   "metadata": {},
   "outputs": [],
   "source": [
    "#def place_marker(board, marker, position):\n",
    "def place_marker( board, marker):\n",
    "    #board = test_board\n",
    "    choice = 'Random'\n",
    "    while choice not in ['Yes','No']:\n",
    "        choice = input(\"Are you ready to play? Enter Yes or No\")\n",
    "        if choice not in ['Yes','No']:\n",
    "            print(\"Enter Input is wrong, please try again!\")\n",
    "\n",
    "    if choice == 'Yes':\n",
    "        #board = ['#',' ',' ',' ',' ',' ',' ',' ',' ',' ']\n",
    "        display_board(board)\n",
    "        player1 = player_input()\n",
    "        #player1 = marker\n",
    "        if player1 == 'X':\n",
    "            player2 = 'O'\n",
    "        else:\n",
    "            player2 = 'X'\n",
    "        position = 0\n",
    "        progress = 'True'\n",
    "        #while position in range(1,10):\n",
    "        while (board[1]==' ' or board[2]==' ' or board[3]==' ' or board[4]==' ' or board[5]==' ' or board[6]==' ' or board[7]==' ' or board[8]==' ' or board[9]==' ') and progress == 'True':\n",
    "            position = int(input (\"Choose your next position: (1-9) \"))\n",
    "            #print(board[position])\n",
    "            #if board[position] != ' ':\n",
    "            #print(\"Sorry that position has already been taken, please choose a different location\")\n",
    "            #if board[position] == ' ':\n",
    "            board[position]=player1\n",
    "            display_board(board)\n",
    "            if win_check(board):\n",
    "                progress = Progress_with_game()\n",
    "            #progress = Progress_with_game()\n",
    "            #print(progress)\n",
    "            if (board[1]==' ' or board[2]==' ' or board[3]==' ' or board[4]==' ' or board[5]==' ' or board[6]==' ' or board[7]==' ' or board[8]==' ' or board[9]==' ') and progress == 'True':\n",
    "                position = int(input (\"Choose your next position: (1-9) \"))\n",
    "                #if board[position] != ' ':\n",
    "                #print(\"Sorry that position has already been taken, please choose a different location\")\n",
    "                #if board[position] == ' ':\n",
    "                board[position]=player2\n",
    "                display_board(board)\n",
    "                if win_check(board):\n",
    "                    progress = Progress_with_game()\n",
    "            \n",
    "    elif choice == 'No':\n",
    "        return\n",
    "            \n",
    "        "
   ]
  },
  {
   "cell_type": "code",
   "execution_count": 15,
   "id": "f33f2bf9-0d13-4e88-a30d-0d9f367182db",
   "metadata": {},
   "outputs": [
    {
     "name": "stdout",
     "output_type": "stream",
     "text": [
      "O| | \n",
      "-|-|-\n",
      "O|X| \n",
      "-|-|-\n",
      "O|X| \n",
      "Congratulations! You have won!\n"
     ]
    }
   ],
   "source": [
    "board = ['#',' ',' ',' ',' ',' ',' ',' ',' ',' ']\n",
    "marker = 'X'\n",
    "\n",
    "place_marker( board, marker)"
   ]
  },
  {
   "cell_type": "code",
   "execution_count": 17,
   "id": "fdc64771-e1b8-4b0a-94b2-4433aa386513",
   "metadata": {},
   "outputs": [],
   "source": [
    "def gameon2():\n",
    "    choice = ' '\n",
    "    while choice not in ['Yes', 'No']:\n",
    "        choice = input(\"Do you wish to continue 'Yes' or 'No'\")\n",
    "        if choice not in ['Yes', 'No']:\n",
    "            print(\"Sorry wrong entry, please try again\")\n",
    "\n",
    "    if choice == 'Yes':\n",
    "        return True\n",
    "    elif choice == 'No':\n",
    "        return False"
   ]
  },
  {
   "cell_type": "code",
   "execution_count": 18,
   "id": "ec424460-c431-404c-8aa0-8311fcd67f9a",
   "metadata": {},
   "outputs": [
    {
     "name": "stdout",
     "output_type": "stream",
     "text": [
      "O| | \n",
      "-|-|-\n",
      "O|X| \n",
      "-|-|-\n",
      "O|X| \n",
      "Congratulations! You have won!\n"
     ]
    },
    {
     "name": "stdin",
     "output_type": "stream",
     "text": [
      "Do you wish to continue 'Yes' or 'No' No\n"
     ]
    }
   ],
   "source": [
    "gameon1 = True\n",
    "board = ['#',' ',' ',' ',' ',' ',' ',' ',' ',' ']\n",
    "marker = 'X'\n",
    "\n",
    "while gameon1:\n",
    "    place_marker( board, marker)\n",
    "    gameon1=gameon2()"
   ]
  },
  {
   "cell_type": "code",
   "execution_count": null,
   "id": "3675895f-124b-4e53-9ac3-51d48c65116c",
   "metadata": {},
   "outputs": [],
   "source": []
  }
 ],
 "metadata": {
  "kernelspec": {
   "display_name": "Python 3 (ipykernel)",
   "language": "python",
   "name": "python3"
  },
  "language_info": {
   "codemirror_mode": {
    "name": "ipython",
    "version": 3
   },
   "file_extension": ".py",
   "mimetype": "text/x-python",
   "name": "python",
   "nbconvert_exporter": "python",
   "pygments_lexer": "ipython3",
   "version": "3.12.4"
  }
 },
 "nbformat": 4,
 "nbformat_minor": 5
}
